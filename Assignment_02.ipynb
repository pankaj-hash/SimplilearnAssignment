{
  "cells": [
    {
      "cell_type": "markdown",
      "metadata": {
        "id": "view-in-github",
        "colab_type": "text"
      },
      "source": [
        "<a href=\"https://colab.research.google.com/github/pankaj-hash/SimplilearnAssignment/blob/main/Assignment_02.ipynb\" target=\"_parent\"><img src=\"https://colab.research.google.com/assets/colab-badge.svg\" alt=\"Open In Colab\"/></a>"
      ]
    },
    {
      "cell_type": "markdown",
      "metadata": {
        "id": "oHSjJvcaqZa4"
      },
      "source": [
        "<img src=\"http://cfs22.simplicdn.net/ice9/new_logo.svgz \"/>\n",
        "\n",
        "# Assignment 02: Evaluate the Summer Olympics, London 2012 dataset\n",
        "\n",
        "*The comments/sections provided are your cues to perform the assignment. You don't need to limit yourself to the number of rows/cells provided. You can add additional rows in each section to add more lines of code.*\n",
        "\n",
        "*If at any point in time you need help on solving this assignment, view our demo video to understand the different steps of the code.*\n",
        "\n",
        "**Happy coding!**\n",
        "\n",
        "* * *"
      ]
    },
    {
      "cell_type": "markdown",
      "metadata": {
        "id": "70Sl3iigqZa6"
      },
      "source": [
        "#### 1: View and add the dataset"
      ]
    },
    {
      "cell_type": "code",
      "execution_count": 1,
      "metadata": {
        "collapsed": true,
        "id": "9lB2jKRqqZa7"
      },
      "outputs": [],
      "source": [
        "#Import the necessary library\n",
        "import numpy as np"
      ]
    },
    {
      "cell_type": "code",
      "execution_count": 2,
      "metadata": {
        "collapsed": true,
        "id": "5JjNunqrqZa8"
      },
      "outputs": [],
      "source": [
        "#Manually add the Summer Olympics, London 2012 dataset as arrays\n",
        "np_olympic_country = np.array(['GBR','China','RUS','US','KOR','JPN','GER'])\n",
        "np_olympic_country_gold = np.array([29,38,24,46,13,7,11])\n",
        "np_olympic_country_silver = np.array([17,28,25,28,8,14,11])\n",
        "np_olympic_country_bronze = np.array([19,22,32,29,7,17,14])"
      ]
    },
    {
      "cell_type": "markdown",
      "metadata": {
        "id": "rDUhvBfxqZa9"
      },
      "source": [
        "#### Find the country with maximum gold medals"
      ]
    },
    {
      "cell_type": "code",
      "execution_count": 3,
      "metadata": {
        "collapsed": true,
        "id": "YyjiYwURqZa-"
      },
      "outputs": [],
      "source": [
        "#Use the argmax() method to find the highest number of gold medals\n",
        "max_gold_index = np_olympic_country_gold.argmax()"
      ]
    },
    {
      "cell_type": "code",
      "execution_count": 4,
      "metadata": {
        "colab": {
          "base_uri": "https://localhost:8080/",
          "height": 35
        },
        "id": "vqEtiTLVqZa-",
        "outputId": "a6cfdb01-c5f0-4583-b696-a59420c643c2"
      },
      "outputs": [
        {
          "output_type": "execute_result",
          "data": {
            "application/vnd.google.colaboratory.intrinsic+json": {
              "type": "string"
            },
            "text/plain": [
              "'US'"
            ]
          },
          "metadata": {},
          "execution_count": 4
        }
      ],
      "source": [
        "#Print the name of the country\n",
        "np_olympic_country[max_gold_index]"
      ]
    },
    {
      "cell_type": "markdown",
      "metadata": {
        "id": "FaZOnVA7qZa-"
      },
      "source": [
        "#### Find the countries with more than 20 gold medals"
      ]
    },
    {
      "cell_type": "code",
      "execution_count": 5,
      "metadata": {
        "colab": {
          "base_uri": "https://localhost:8080/"
        },
        "id": "OkAl8yJaqZa_",
        "outputId": "53dd1ead-d096-42a3-acff-b34aa875212a"
      },
      "outputs": [
        {
          "output_type": "stream",
          "name": "stdout",
          "text": [
            "['GBR' 'China' 'RUS' 'US']\n"
          ]
        }
      ],
      "source": [
        "#Use Boolean indexing technique to find the required output\n",
        "print(np_olympic_country[np_olympic_country_gold>20])"
      ]
    },
    {
      "cell_type": "markdown",
      "metadata": {
        "id": "_qEpw1MkqZbA"
      },
      "source": [
        "#### Evaluate the dataset and print the name of each country with its gold medals and total number of medals"
      ]
    },
    {
      "cell_type": "code",
      "execution_count": 6,
      "metadata": {
        "colab": {
          "base_uri": "https://localhost:8080/"
        },
        "id": "TE0yZqqnqZbA",
        "outputId": "15dda799-9782-40c0-b95a-69c9dcbb065e"
      },
      "outputs": [
        {
          "output_type": "stream",
          "name": "stdout",
          "text": [
            "GBR, gold medals 29, total medals 65\n",
            "China, gold medals 38, total medals 88\n",
            "RUS, gold medals 24, total medals 81\n",
            "US, gold medals 46, total medals 103\n",
            "KOR, gold medals 13, total medals 28\n",
            "JPN, gold medals 7, total medals 38\n",
            "GER, gold medals 11, total medals 36\n"
          ]
        }
      ],
      "source": [
        "#Use a for loop to create the required output\n",
        "for i in range(len(np_olympic_country)):\n",
        "  print('{}, gold medals {}, total medals {}'.format(np_olympic_country[i],np_olympic_country_gold[i],np_olympic_country_gold[i]+\n",
        "                                                     np_olympic_country_silver[i]+np_olympic_country_bronze[i]))"
      ]
    }
  ],
  "metadata": {
    "kernelspec": {
      "display_name": "Python 3",
      "language": "python",
      "name": "python3"
    },
    "language_info": {
      "codemirror_mode": {
        "name": "ipython",
        "version": 3
      },
      "file_extension": ".py",
      "mimetype": "text/x-python",
      "name": "python",
      "nbconvert_exporter": "python",
      "pygments_lexer": "ipython3",
      "version": "3.5.1"
    },
    "colab": {
      "name": "Assignment 02.ipynb",
      "provenance": [],
      "include_colab_link": true
    }
  },
  "nbformat": 4,
  "nbformat_minor": 0
}